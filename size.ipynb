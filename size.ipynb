{
 "cells": [
  {
   "attachments": {},
   "cell_type": "markdown",
   "metadata": {},
   "source": [
    "Đọc File"
   ]
  },
  {
   "cell_type": "code",
   "execution_count": 27,
   "metadata": {},
   "outputs": [],
   "source": [
    "input = \"\"\n",
    "\n",
    "with open('size.inp', 'r') as fi: \n",
    "    input = fi.read()"
   ]
  },
  {
   "attachments": {},
   "cell_type": "markdown",
   "metadata": {},
   "source": [
    "Tách data thành các cặp chiều cao và cân nặng"
   ]
  },
  {
   "cell_type": "code",
   "execution_count": 28,
   "metadata": {},
   "outputs": [
    {
     "name": "stdout",
     "output_type": "stream",
     "text": [
      "['1.6 55', '1.5 55']\n"
     ]
    }
   ],
   "source": [
    "height_and_weight_list = input.split(\"\\n\")\n",
    "print(height_and_weight_list)"
   ]
  },
  {
   "attachments": {},
   "cell_type": "markdown",
   "metadata": {},
   "source": [
    "Tạo File size.out"
   ]
  },
  {
   "cell_type": "code",
   "execution_count": 29,
   "metadata": {},
   "outputs": [],
   "source": [
    "file_out = open(\"size.out\", \"x\")"
   ]
  },
  {
   "attachments": {},
   "cell_type": "markdown",
   "metadata": {},
   "source": [
    "Kiểm tra điều kiện và viết kết quả vào file"
   ]
  },
  {
   "cell_type": "code",
   "execution_count": 30,
   "metadata": {},
   "outputs": [],
   "source": [
    "for height_and_weight in height_and_weight_list:\n",
    "    [height, weight] = height_and_weight.split(\" \")\n",
    "    height = float(height)\n",
    "    weight = int(weight)\n",
    "    if (1.6 <= height <= 1.65) &  (55 <= weight <= 60):\n",
    "        file_out.write(\"S\\n\")\n",
    "    elif (1.66 <= height <= 1.69) & ( 60 <= weight <= 65):\n",
    "        file_out.write(\"M\\n\")\n",
    "    elif (1.70 <= height <= 1.74) &  (66 <= weight <= 70):\n",
    "        file_out.write(\"L\\n\")\n",
    "    elif (1.75 <= height <= 1.76) &  (70 <= weight <= 76):\n",
    "        file_out.write(\"XL\\n\")\n",
    "    elif (1.75 <= height <= 1.77) &  (76 <= weight <= 80):\n",
    "        file_out.write(\"XXL\\n\")\n",
    "    else:\n",
    "        file_out.write(\"NO\\n\")\n",
    "    "
   ]
  },
  {
   "attachments": {},
   "cell_type": "markdown",
   "metadata": {},
   "source": [
    "Đóng File"
   ]
  },
  {
   "cell_type": "code",
   "execution_count": 31,
   "metadata": {},
   "outputs": [],
   "source": [
    "file_out.close()"
   ]
  }
 ],
 "metadata": {
  "kernelspec": {
   "display_name": "Python 3",
   "language": "python",
   "name": "python3"
  },
  "language_info": {
   "codemirror_mode": {
    "name": "ipython",
    "version": 3
   },
   "file_extension": ".py",
   "mimetype": "text/x-python",
   "name": "python",
   "nbconvert_exporter": "python",
   "pygments_lexer": "ipython3",
   "version": "3.10.10"
  },
  "orig_nbformat": 4,
  "vscode": {
   "interpreter": {
    "hash": "9a40cf1d4b6e839193efc02c3963a3fd2a016c2e92e7bc5e7928c10289533e3b"
   }
  }
 },
 "nbformat": 4,
 "nbformat_minor": 2
}
